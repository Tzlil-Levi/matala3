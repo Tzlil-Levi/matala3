{
 "cells": [
  {
   "cell_type": "markdown",
   "metadata": {},
   "source": [
    "#### Function for read WhatsApp file\n"
   ]
  },
  {
   "cell_type": "code",
   "execution_count": 78,
   "metadata": {
    "scrolled": true
   },
   "outputs": [
    {
     "name": "stdout",
     "output_type": "stream",
     "text": [
      "Enter the file path and name: �צ'אט WhatsApp עם מבוא למכונות.txt\n"
     ]
    }
   ],
   "source": [
    "def read_file():\n",
    "    file_name = input('Enter the file path and name: ')\n",
    "    fhand = open(file_name, 'r', encoding='utf-8')\n",
    "    return fhand\n",
    "fhand = read_file()"
   ]
  },
  {
   "cell_type": "markdown",
   "metadata": {},
   "source": [
    "#### Function which is building a dictionary of WhatsApp messages and metadata and export it to json file text\n"
   ]
  },
  {
   "cell_type": "code",
   "execution_count": 79,
   "metadata": {},
   "outputs": [],
   "source": [
    "fhand.seek(0,0)\n",
    "import re\n",
    "import json\n",
    "\n",
    "def Whatsapp_messages (fhand):\n",
    "    \n",
    "    ## 1 makes the phones and names anonymuos- build a dictionary with id and number or name\n",
    "    \n",
    "    id_dic = dict()\n",
    "    id = 1\n",
    "    persons_list = list()\n",
    "    date_format='(([0-9]{2}|[0-9])\\.([0][1-9]|[1][0-2]|[0-9])\\.[0-9]{4})'\n",
    "    time_format='([0-9]|[0-9]{2}):[0-9]{2}'\n",
    "    \n",
    "    for line in fhand:\n",
    "         if ((line.find(\"נוצרה על ידי\")==-1) and (line.find(\"שינה/תה\")==-1) and (line.find(\"החליף/ה\")==-1) and (line.find(\"עזב/ה\")==-1) and (line.find(\"מוצפנות מקצה-לקצה\")==-1) and (line.find(\"קישור ההזמנה\")==-1)):\n",
    "            if ((line.find(\"הוסיף/ה\")==-1) ):\n",
    "                if (re.search(date_format, line)):\n",
    "                    makaf = line.find('-')\n",
    "                    nekudotaim = line.find(':',makaf)\n",
    "                    result = line[makaf+2:nekudotaim]\n",
    "                    if not result in persons_list:\n",
    "                        persons_list.append(result)\n",
    "                        id_dic[result]= id\n",
    "                        id = id+1\n",
    "  \n",
    "    ## 2 list of dictionaries for WhatsApp messages\n",
    "\n",
    "    fhand.seek(0,0)\n",
    "    messages = list()\n",
    "    for line in fhand:\n",
    "        line = line.rstrip()\n",
    "        if ((line.find(\"נוצרה על ידי\")==-1) and (line.find(\"שינה/תה\")==-1) and (line.find(\"החליף/ה\")==-1) and (line.find(\"עזב/ה\")==-1) and (line.find(\"מוצפנות מקצה-לקצה\")==-1) and (line.find(\"קישור ההזמנה\")==-1)):\n",
    "            if ((line.find(\"הוסיף/ה\")==-1) ):\n",
    "                if (re.search(date_format, line)):\n",
    "                    message_dic = dict()\n",
    "                    makaf = line.find('-')\n",
    "                    message_dic['datetime']= line[:makaf]\n",
    "                    nekudotaim = line.find(':',makaf)\n",
    "                    person = line[makaf+2:nekudotaim]\n",
    "                    message_dic['id'] = id_dic[person]\n",
    "                    text = line[nekudotaim+1 :]\n",
    "                    message_dic['text'] = text\n",
    "                    messages.append(message_dic)   \n",
    "                else:\n",
    "                    text = text + \" \" + line\n",
    "                    message_dic['text'] = text \n",
    "\n",
    "    ## 3 metadata dictionary for WhatsApp group\n",
    "    \n",
    "    fhand.seek(0,0)\n",
    "    metadata = dict()\n",
    "    for line in fhand:\n",
    "        line = line.rstrip()\n",
    "        if (line.find(\"נוצרה על ידי\")!=-1):\n",
    "            group = line.find('הקבוצה')\n",
    "            created = line.find('נוצרה', group)\n",
    "            metadata['chat_name']= line[group+8:created-2]\n",
    "            makaf = line.find('-')\n",
    "            metadata['creation_date']= line[:makaf]\n",
    "            metadata['num_of_participants']= id\n",
    "            metadata['creator'] = line[created+13:]\n",
    "\n",
    "    ## 4 Dictionary for messages and metadata\n",
    "    \n",
    "    milon = dict()\n",
    "    milon['messages'] = messages\n",
    "    milon['metadata'] = metadata\n",
    "\n",
    "    ## 5 save the dictionary to json\n",
    "    \n",
    "    json_file = metadata['chat_name']+\".txt\"\n",
    "    with open (json_file, 'w' , encoding='utf-16le') as outfile:\n",
    "        json.dump(milon, outfile, ensure_ascii=False)"
   ]
  },
  {
   "cell_type": "markdown",
   "metadata": {},
   "source": [
    "#### Run the program "
   ]
  },
  {
   "cell_type": "code",
   "execution_count": 80,
   "metadata": {},
   "outputs": [],
   "source": [
    "Whatsapp_messages(fhand)"
   ]
  },
  {
   "cell_type": "markdown",
   "metadata": {},
   "source": [
    "#### Assumptions\n"
   ]
  },
  {
   "cell_type": "code",
   "execution_count": 71,
   "metadata": {},
   "outputs": [],
   "source": [
    "#assumptions:\n",
    "#הצ'אט הוא מאנדרואיד\n",
    "#כמות המשתתפים בקבוצה נספרה על ידי כמות האנשים שאי פעם שלחו הודעה אחת לפחות בקבוצה\n",
    "#לשם האסתטיות הפכתי את הבאקסלאש אן בסוף כל שורה לרווח על מנת להימנע מתווים אלו בפלט ההודעות"
   ]
  }
 ],
 "metadata": {
  "kernelspec": {
   "display_name": "Python 3",
   "language": "python",
   "name": "python3"
  },
  "language_info": {
   "codemirror_mode": {
    "name": "ipython",
    "version": 3
   },
   "file_extension": ".py",
   "mimetype": "text/x-python",
   "name": "python",
   "nbconvert_exporter": "python",
   "pygments_lexer": "ipython3",
   "version": "3.8.3"
  }
 },
 "nbformat": 4,
 "nbformat_minor": 4
}
